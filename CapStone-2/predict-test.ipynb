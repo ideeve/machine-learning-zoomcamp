{
 "cells": [
  {
   "cell_type": "code",
   "execution_count": 61,
   "metadata": {},
   "outputs": [],
   "source": [
    "import requests"
   ]
  },
  {
   "cell_type": "code",
   "execution_count": 79,
   "metadata": {},
   "outputs": [],
   "source": [
    "url = 'http://0.0.0.0:4041/predict'"
   ]
  },
  {
   "cell_type": "code",
   "execution_count": 93,
   "metadata": {},
   "outputs": [],
   "source": [
    "person = {\n",
    "  \"CustomerId\": \"15975382\",\n",
    "  \"CreditScore\": 650,\n",
    "  \"Geography\": \"Germany\",\n",
    "  \"Gender\": \"Female\",\n",
    "  \"Age\": 29,\n",
    "  \"Tenure\": 5,\n",
    "  \"Balance\": 125000.75,\n",
    "  \"NumOfProducts\": 3,\n",
    "  \"HasCrCard\": 1,\n",
    "  \"IsActiveMember\": 1,\n",
    "  \"EstimatedSalary\": 50000.00\n",
    "\n",
    "}"
   ]
  },
  {
   "cell_type": "markdown",
   "metadata": {},
   "source": []
  },
  {
   "cell_type": "code",
   "execution_count": 94,
   "metadata": {},
   "outputs": [
    {
     "name": "stdout",
     "output_type": "stream",
     "text": [
      "Earns less than 50k\n"
     ]
    }
   ],
   "source": [
    "try:\n",
    "    response = requests.post(url, json=person).json()\n",
    "    \n",
    "    if response['exited'] == \"0\":\n",
    "        \n",
    "        print('exited')\n",
    "    else:\n",
    "        print('not exited')\n",
    "  \n",
    "except requests.exceptions.RequestException as e:\n",
    "    print(f'Request error: {e}')"
   ]
  },
  {
   "cell_type": "code",
   "execution_count": null,
   "metadata": {},
   "outputs": [],
   "source": []
  }
 ],
 "metadata": {
  "kernelspec": {
   "display_name": "mlops-zoomcamp",
   "language": "python",
   "name": "python3"
  },
  "language_info": {
   "codemirror_mode": {
    "name": "ipython",
    "version": 3
   },
   "file_extension": ".py",
   "mimetype": "text/x-python",
   "name": "python",
   "nbconvert_exporter": "python",
   "pygments_lexer": "ipython3",
   "version": "3.9.0"
  }
 },
 "nbformat": 4,
 "nbformat_minor": 2
}
