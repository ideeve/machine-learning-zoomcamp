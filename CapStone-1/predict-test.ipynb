{
 "cells": [
  {
   "cell_type": "code",
   "execution_count": 1,
   "metadata": {},
   "outputs": [],
   "source": [
    "import requests"
   ]
  },
  {
   "cell_type": "code",
   "execution_count": 2,
   "metadata": {},
   "outputs": [],
   "source": [
    "url = 'http://0.0.0.0:4041/predict'"
   ]
  },
  {
   "cell_type": "code",
   "execution_count": 3,
   "metadata": {},
   "outputs": [],
   "source": [
    "person = {\n",
    "    \"age\": 32, \n",
    "    \"workclass\": \"Private\",  # Corrected the key here\n",
    "    \"final_weight\": 334409, \n",
    "    \"education\": \"Master\", \n",
    "    \"educationnum\": 12,\n",
    "    \"marital_status\": \"Married-civ-spouse\", \n",
    "    \"occupation\": \"Prof-specialty\", \n",
    "    \"relationship\": \"Wife\", \n",
    "    \"race\": \"White\", \n",
    "    \"gender\": \"Female\",\n",
    "    \"capital_gain\": 0, \n",
    "    \"capital_loss\": 0, \n",
    "    \"hours_per_week\": 30, \n",
    "    \"native_country\": \"France\"\n",
    "}"
   ]
  },
  {
   "cell_type": "code",
   "execution_count": 4,
   "metadata": {},
   "outputs": [
    {
     "name": "stdout",
     "output_type": "stream",
     "text": [
      "Earns less than 50k\n"
     ]
    }
   ],
   "source": [
    "try:\n",
    "    response = requests.post(url, json=person).json()\n",
    "    \n",
    "    if response['status'] == \" <=50K\":\n",
    "        \n",
    "        print('Earns less than 50k')\n",
    "    else:\n",
    "        print('Earns more than 50k.')\n",
    "  \n",
    "except requests.exceptions.RequestException as e:\n",
    "    print(f'Request error: {e}')"
   ]
  },
  {
   "cell_type": "code",
   "execution_count": null,
   "metadata": {},
   "outputs": [],
   "source": []
  }
 ],
 "metadata": {
  "kernelspec": {
   "display_name": "mlops-zoomcamp",
   "language": "python",
   "name": "python3"
  },
  "language_info": {
   "codemirror_mode": {
    "name": "ipython",
    "version": 3
   },
   "file_extension": ".py",
   "mimetype": "text/x-python",
   "name": "python",
   "nbconvert_exporter": "python",
   "pygments_lexer": "ipython3",
   "version": "3.9.18"
  }
 },
 "nbformat": 4,
 "nbformat_minor": 2
}
